{
 "cells": [
  {
   "cell_type": "code",
   "execution_count": 4,
   "metadata": {
    "colab": {},
    "colab_type": "code",
    "id": "FXDnBXHIfQTm"
   },
   "outputs": [],
   "source": [
    "# CNN_8_7\n",
    "# Author: Matthew Dixon\n",
    "# Version: 1.0 (24.7.2019)\n",
    "# License: MIT\n",
    "# Email: matthew.dixon@iit.edu\n",
    "# Notes: tested on Mac OS X with Python 3.6\n",
    "# Citation: Please cite the following reference if this notebook is used for research purposes:\n",
    "# Dixon M.F., I. Halperin and P. Bilokon, Machine Learning in Finance: From Theory to Practice, Springer Graduate textbook Series, 2020. \n",
    "# Notebook adapted from solution provided by Noah Grudowski. "
   ]
  },
  {
   "cell_type": "markdown",
   "metadata": {
    "colab_type": "text",
    "id": "6AWn-1-ogJLo"
   },
   "source": [
    "### Load Necessary Packages"
   ]
  },
  {
   "cell_type": "code",
   "execution_count": 2,
   "metadata": {
    "colab": {},
    "colab_type": "code",
    "id": "FrlQQLdqgNNz"
   },
   "outputs": [],
   "source": [
    "%matplotlib inline"
   ]
  },
  {
   "cell_type": "code",
   "execution_count": 3,
   "metadata": {
    "colab": {},
    "colab_type": "code",
    "id": "t7ek9mx-gPGm"
   },
   "outputs": [],
   "source": [
    "import numpy as np\n",
    "import pandas as pd\n",
    "import math\n",
    "import matplotlib.pyplot as plt\n",
    "from sklearn.metrics import mean_squared_error\n",
    "import statsmodels.api as sm"
   ]
  },
  {
   "cell_type": "code",
   "execution_count": 4,
   "metadata": {
    "colab": {},
    "colab_type": "code",
    "id": "4X7jIOs5gQjw"
   },
   "outputs": [
    {
     "name": "stderr",
     "output_type": "stream",
     "text": [
      "Using TensorFlow backend.\n"
     ]
    }
   ],
   "source": [
    "from keras.models import Sequential\n",
    "from keras.layers import Dense\n",
    "from keras.layers import LSTM, GRU, SimpleRNN\n",
    "from keras import optimizers\n",
    "from keras.models import load_model\n",
    "from keras.layers import Convolution1D, Dense, MaxPooling1D, Flatten"
   ]
  },
  {
   "cell_type": "markdown",
   "metadata": {
    "colab_type": "text",
    "id": "d5GPT0UygSBQ"
   },
   "source": [
    "### Load HFT Data"
   ]
  },
  {
   "cell_type": "code",
   "execution_count": 5,
   "metadata": {
    "colab": {
     "base_uri": "https://localhost:8080/",
     "height": 390
    },
    "colab_type": "code",
    "id": "jfD1EZT2gbKO",
    "outputId": "941756a7-2fb0-4a3a-dcf5-7ec0012f7910"
   },
   "outputs": [],
   "source": [
    "df = pd.read_csv('../../data/HFT.csv')"
   ]
  },
  {
   "cell_type": "code",
   "execution_count": 6,
   "metadata": {
    "colab": {},
    "colab_type": "code",
    "id": "Y7Bc1iYagddm"
   },
   "outputs": [
    {
     "data": {
      "text/html": [
       "<div>\n",
       "<style scoped>\n",
       "    .dataframe tbody tr th:only-of-type {\n",
       "        vertical-align: middle;\n",
       "    }\n",
       "\n",
       "    .dataframe tbody tr th {\n",
       "        vertical-align: top;\n",
       "    }\n",
       "\n",
       "    .dataframe thead th {\n",
       "        text-align: right;\n",
       "    }\n",
       "</style>\n",
       "<table border=\"1\" class=\"dataframe\">\n",
       "  <thead>\n",
       "    <tr style=\"text-align: right;\">\n",
       "      <th></th>\n",
       "      <th>feature_1</th>\n",
       "      <th>feature_2</th>\n",
       "      <th>feature_3</th>\n",
       "      <th>label</th>\n",
       "    </tr>\n",
       "  </thead>\n",
       "  <tbody>\n",
       "    <tr>\n",
       "      <th>0</th>\n",
       "      <td>0.515301</td>\n",
       "      <td>0.72</td>\n",
       "      <td>0.710953</td>\n",
       "      <td>0</td>\n",
       "    </tr>\n",
       "    <tr>\n",
       "      <th>1</th>\n",
       "      <td>0.515301</td>\n",
       "      <td>0.72</td>\n",
       "      <td>0.710953</td>\n",
       "      <td>0</td>\n",
       "    </tr>\n",
       "    <tr>\n",
       "      <th>2</th>\n",
       "      <td>0.515301</td>\n",
       "      <td>0.72</td>\n",
       "      <td>0.710953</td>\n",
       "      <td>0</td>\n",
       "    </tr>\n",
       "    <tr>\n",
       "      <th>3</th>\n",
       "      <td>0.515301</td>\n",
       "      <td>0.72</td>\n",
       "      <td>0.710953</td>\n",
       "      <td>0</td>\n",
       "    </tr>\n",
       "    <tr>\n",
       "      <th>4</th>\n",
       "      <td>0.515301</td>\n",
       "      <td>0.72</td>\n",
       "      <td>0.710953</td>\n",
       "      <td>0</td>\n",
       "    </tr>\n",
       "  </tbody>\n",
       "</table>\n",
       "</div>"
      ],
      "text/plain": [
       "   feature_1  feature_2  feature_3  label\n",
       "0   0.515301       0.72   0.710953      0\n",
       "1   0.515301       0.72   0.710953      0\n",
       "2   0.515301       0.72   0.710953      0\n",
       "3   0.515301       0.72   0.710953      0\n",
       "4   0.515301       0.72   0.710953      0"
      ]
     },
     "execution_count": 6,
     "metadata": {},
     "output_type": "execute_result"
    }
   ],
   "source": [
    "df.head()"
   ]
  },
  {
   "cell_type": "markdown",
   "metadata": {
    "colab_type": "text",
    "id": "eQKSMWsjgeQU"
   },
   "source": [
    "We consider a univariate prediction problem where the time series is given by 'feature_3' in the data frame."
   ]
  },
  {
   "cell_type": "code",
   "execution_count": 7,
   "metadata": {
    "colab": {},
    "colab_type": "code",
    "id": "7ZajaY2Iggan"
   },
   "outputs": [],
   "source": [
    "use_features = 'feature_3' # continuous input\n",
    "target = 'feature_3' # continuous output"
   ]
  },
  {
   "cell_type": "markdown",
   "metadata": {
    "colab_type": "text",
    "id": "EZMumn_mgiep"
   },
   "source": [
    "## Part a: Stationarity with Augmented Dickey-Fuller Test"
   ]
  },
  {
   "cell_type": "markdown",
   "metadata": {
    "colab_type": "text",
    "id": "aLeaf687gnYu"
   },
   "source": [
    "The null hypothesis of the Augmented Dickey-Fuller is that there is a unit root, with the alternative that there is no unit root. If the p-value is above $(1-\\alpha)$, then we cannot reject that there is a unit root. Note that a subset of the time series is used to reduce the computation time of the test."
   ]
  },
  {
   "cell_type": "code",
   "execution_count": 8,
   "metadata": {
    "colab": {},
    "colab_type": "code",
    "id": "vH0DLTHsgqeO"
   },
   "outputs": [],
   "source": [
    "adf, p, usedlag, nobs, cvs,aic=sm.tsa.stattools.adfuller(df[use_features][:200000])"
   ]
  },
  {
   "cell_type": "code",
   "execution_count": 9,
   "metadata": {
    "colab": {},
    "colab_type": "code",
    "id": "mmy2Sl_gguBw"
   },
   "outputs": [
    {
     "name": "stdout",
     "output_type": "stream",
     "text": [
      "-3.970572659864007 0.0015726872209325432 80 199919 {'1%': -3.430382710167448, '5%': -2.8615544574611698, '10%': -2.566777695186804} -1679778.349426464\n"
     ]
    }
   ],
   "source": [
    "print(adf, p, usedlag, nobs, cvs,aic)"
   ]
  },
  {
   "cell_type": "markdown",
   "metadata": {},
   "source": [
    "Looking at the above output, we have a test statistic of -3.97057.  Thus, we reject the null hypothesis, as there is reasonable evidence to conclude that this dataset is stationary."
   ]
  },
  {
   "cell_type": "markdown",
   "metadata": {
    "colab_type": "text",
    "id": "NnU111OHgu5y"
   },
   "source": [
    "## Part b: Estimate Partial Auto-Correlation Function and Determine Optimum Lag (99% Confidence)\n",
    "The estimated partial auto-correlation function (PACF) can be used to identify the order of an autoregressive time series model. Values of $|\\tau_h|$ greater or equal to $\\frac{\\Phi^{-1}(\\alpha)}{\\sqrt{T}}$, where T is the number of observations and $\\Phi(z)$ is the standard normal CDF, are significant lag $h$ partial autocorelations at the $\\alpha$ confidence level.\n",
    "\n",
    "We use the stattools package to estimat the PACF. The 'nlags' parameter is the maximum number of lags used for PACF estimation."
   ]
  },
  {
   "cell_type": "code",
   "execution_count": 10,
   "metadata": {
    "colab": {},
    "colab_type": "code",
    "id": "mK1cIjKtgznS"
   },
   "outputs": [],
   "source": [
    "pacf=sm.tsa.stattools.pacf(df[use_features], nlags=30)"
   ]
  },
  {
   "cell_type": "code",
   "execution_count": 11,
   "metadata": {
    "colab": {},
    "colab_type": "code",
    "id": "BhAaBvMSg3QY"
   },
   "outputs": [
    {
     "data": {
      "text/plain": [
       "array([1.        , 0.99978073, 0.00645883, 0.02457632, 0.02450646,\n",
       "       0.01566672, 0.01228706, 0.01406852, 0.00552327, 0.01106975,\n",
       "       0.0097814 , 0.00528616, 0.00271307, 0.00482261, 0.00514608,\n",
       "       0.01184934, 0.0107241 , 0.00366119, 0.00550863, 0.00744828,\n",
       "       0.00379451, 0.00335972, 0.00854415, 0.00654713, 0.00155662,\n",
       "       0.00443114, 0.00538996, 0.00230699, 0.00812299, 0.00166796,\n",
       "       0.00477462])"
      ]
     },
     "execution_count": 11,
     "metadata": {},
     "output_type": "execute_result"
    }
   ],
   "source": [
    "pacf"
   ]
  },
  {
   "cell_type": "code",
   "execution_count": 2,
   "metadata": {
    "colab": {},
    "colab_type": "code",
    "id": "T3oydg2kg3yp"
   },
   "outputs": [],
   "source": [
    "n_steps=np.where(np.array(np.abs(pacf)>2.58/np.sqrt(len(df[use_features])))==False)[0][0] -1\n",
    "#Note that a z-score of 2.58 corresponds to the 99% confidence interval"
   ]
  },
  {
   "cell_type": "code",
   "execution_count": 13,
   "metadata": {
    "colab": {},
    "colab_type": "code",
    "id": "Za_LTbtmg6pi"
   },
   "outputs": [
    {
     "name": "stdout",
     "output_type": "stream",
     "text": [
      "23\n"
     ]
    }
   ],
   "source": [
    "print(n_steps)"
   ]
  },
  {
   "cell_type": "markdown",
   "metadata": {},
   "source": [
    "Thus, we have shown that the optimum lag at the 99% confidence level is 23. Note that this value for the number of lags is a little high, and may be more than necessary. Thus, this could unnaturally lead to a high order model."
   ]
  },
  {
   "cell_type": "markdown",
   "metadata": {},
   "source": [
    "## Preparing Data for Parts c, d, and e\n",
    "### Splitting and Scaling"
   ]
  },
  {
   "cell_type": "markdown",
   "metadata": {
    "colab_type": "text",
    "id": "icygZm4ig8MT"
   },
   "source": [
    "This may lead to a high order model, with more lags than strictly necessary. We could view this value, informally, as an upper bound on the number of lags needed. We can also simply identify the order of the model based on the plot of the PACF. In this case, a minimum of 2 lags appears satisfactory, although more may be needed. Unlike autoregressive models, the advantage of using fewer parameters is purely computational as adding more lags does not increase the number of parameters, only the size of the tensorial representation of the sequence data in TensorFlow. "
   ]
  },
  {
   "cell_type": "code",
   "execution_count": 14,
   "metadata": {
    "colab": {},
    "colab_type": "code",
    "id": "xX90PqaQg-sr"
   },
   "outputs": [
    {
     "data": {
      "text/plain": [
       "<matplotlib.legend.Legend at 0x10b60860>"
      ]
     },
     "execution_count": 14,
     "metadata": {},
     "output_type": "execute_result"
    },
    {
     "data": {
      "image/png": "[encoded data removed]",
      "text/plain": [
       "<Figure size 432x288 with 1 Axes>"
      ]
     },
     "metadata": {
      "needs_background": "light"
     },
     "output_type": "display_data"
    }
   ],
   "source": [
    "plt.plot(pacf, label='pacf')\n",
    "plt.plot([2.58/np.sqrt(len(df[use_features]))]*30, label='99% confidence interval')\n",
    "plt.legend()"
   ]
  },
  {
   "cell_type": "markdown",
   "metadata": {
    "colab_type": "text",
    "id": "7HWRgQBDhCUB"
   },
   "source": [
    "### Splitting\n",
    "Split the training and test set by using the first 80% of the time series and the remaining 20% for the test set. Note that the test set must be in the future of the training set to avoid look-ahead bias. Also, random sampling of the data can not be used as this would eliminate the auto-correlation structure."
   ]
  },
  {
   "cell_type": "code",
   "execution_count": 16,
   "metadata": {
    "colab": {},
    "colab_type": "code",
    "id": "TFjU1zQwhD1B"
   },
   "outputs": [],
   "source": [
    "train_weight = 0.8\n",
    "split = int(len(df)*train_weight)\n",
    "df_train = df.iloc[:split]"
   ]
  },
  {
   "cell_type": "markdown",
   "metadata": {
    "colab_type": "text",
    "id": "ZL2rIpMHhGbs"
   },
   "source": [
    "### Scaling\n",
    "Standardization of the data is important to avoid potential scaling difficulties in the fitting of the model. When there is more than one feature (covariate), scaling avoids one feature dominating over another due to disparate scales.\n",
    "\n",
    "To avoid introducing a look-ahead bias into the prediction, we must re-scale the training data without knowledge of the test set. Hence, we will simply standardize the training set using the mean and standard deviation of the training set and not the whole time series. Additionally, to avoid introducing a systematic bias into test set, we use the identical normalization for the test set - the mean and standard deviation of the training set are used to normalize the test set."
   ]
  },
  {
   "cell_type": "code",
   "execution_count": 17,
   "metadata": {
    "colab": {},
    "colab_type": "code",
    "id": "IweYwslshIll"
   },
   "outputs": [],
   "source": [
    "mu = np.float(df_train[use_features].mean())\n",
    "sigma = np.float(df_train[use_features].std())"
   ]
  },
  {
   "cell_type": "code",
   "execution_count": 18,
   "metadata": {
    "colab": {},
    "colab_type": "code",
    "id": "4lMxzrWGhLV4"
   },
   "outputs": [],
   "source": [
    "std_df_train = df_train[use_features].apply(lambda x: (x - mu) / sigma)"
   ]
  },
  {
   "cell_type": "code",
   "execution_count": 20,
   "metadata": {
    "colab": {},
    "colab_type": "code",
    "id": "8f71Lo99hM9g"
   },
   "outputs": [],
   "source": [
    "df_test = df.iloc[split:]\n",
    "std_df_test = df[use_features].apply(lambda x: (x - mu) / sigma).iloc[split:]"
   ]
  },
  {
   "cell_type": "markdown",
   "metadata": {},
   "source": [
    "## Part c: Evaluating MSE in-sample and out-of-sample Using 4 Filters."
   ]
  },
  {
   "cell_type": "markdown",
   "metadata": {},
   "source": [
    "As the number of filters is increased, the difference between the out-of-sample and in-sample mean-\n",
    "squared errors gets noticeably larger. While it can be seen that the in-sample error is minimized, the\n",
    "out-of-sample error begins to get larger and larger the more the number of filters is increased. This can\n",
    "be explained by the Bias-Variance tradeoff, as the increased number of filters is causing the model to\n",
    "become overfitted. As a result, this increased complexity in the model does minimize the in-sample\n",
    "error, but in consequence/tradeoff, the out-of-sample error is sacrificed. Put another way, we have a\n",
    "lower bias but a higher variance in this scenario."
   ]
  },
  {
   "cell_type": "code",
   "execution_count": 21,
   "metadata": {},
   "outputs": [],
   "source": [
    "def make_timeseries_regressor(window_size, filter_length, nb_input_series=1, nb_outputs=1, nb_filter=4):\n",
    "    \n",
    "    model = Sequential((\n",
    "        # The first conv layer learns `nb_filter` filters (aka kernels), each of size ``(filter_length, nb_input_series)``.\n",
    "        # Its output will have shape (None, window_size - filter_length + 1, nb_filter), i.e., for each position in\n",
    "        # the input timeseries, the activation of each filter at that position.\n",
    "        Convolution1D(nb_filter=nb_filter, filter_length=filter_length, activation='relu', input_shape=(window_size, nb_input_series)),\n",
    "        Flatten(),\n",
    "        Dense(nb_outputs, activation='linear'),     # For binary classification, change the activation to 'sigmoid'\n",
    "    ))\n",
    "    model.compile(loss='mse', optimizer='adam', metrics=['mae','mse'])\n",
    "    return model"
   ]
  },
  {
   "cell_type": "code",
   "execution_count": 22,
   "metadata": {},
   "outputs": [],
   "source": [
    "def make_timeseries_instances(timeseries, window_size):\n",
    "    timeseries = np.asarray(timeseries)\n",
    "    assert 0 < window_size < timeseries.shape[0]\n",
    "    X = np.atleast_3d(np.array([timeseries[start:start + window_size] for start in range(0, timeseries.shape[0] - window_size)]))\n",
    "    y = timeseries[window_size:]\n",
    "    q = np.atleast_3d([timeseries[-window_size:]])\n",
    "    return X, y, q"
   ]
  },
  {
   "cell_type": "code",
   "execution_count": 28,
   "metadata": {},
   "outputs": [],
   "source": [
    "def evaluate_timeseries(timeseries, window_size):\n",
    "\n",
    "    filter_length = 5\n",
    "    nb_filter = 100\n",
    "    timeseries = np.atleast_2d(timeseries)\n",
    "    if timeseries.shape[0] == 1:\n",
    "        timeseries = timeseries.T       # Convert 1D vectors to 2D column vectors\n",
    "\n",
    "    nb_samples, nb_series = timeseries.shape\n",
    "    model = make_timeseries_regressor(window_size=window_size, filter_length=filter_length, nb_input_series=nb_series, nb_outputs=nb_series, nb_filter=nb_filter)\n",
    "    model.summary()\n",
    "\n",
    "    X, y, q = make_timeseries_instances(timeseries, window_size)\n",
    "    test_size = int(0.01 * nb_samples)           # In real life you'd want to use 0.2 - 0.5\n",
    "    X_train, X_test, y_train, y_test = X[:-test_size], X[-test_size:], y[:-test_size], y[-test_size:]\n",
    "    model.fit(X_train, y_train, nb_epoch=25, batch_size=2, validation_data=(X_test, y_test))\n",
    "\n",
    "    pred_out_sample = model.predict(X_test)\n",
    "    pred_in_sample = model.predict(X_train)\n",
    "    \n",
    "    print('Out of Sample Mean Squared Error: ',mean_squared_error(pred_out_sample,y_test))\n",
    "    print('In Sample Mean Squared Error: ',mean_squared_error(pred_in_sample,y_train))\n",
    "    \n",
    "    return model, X_test, y_test"
   ]
  },
  {
   "cell_type": "code",
   "execution_count": 29,
   "metadata": {
    "scrolled": true
   },
   "outputs": [
    {
     "name": "stderr",
     "output_type": "stream",
     "text": [
      "C:\\Users\\Noah PC\\Anaconda3\\lib\\site-packages\\ipykernel_launcher.py:7: UserWarning: Update your `Conv1D` call to the Keras 2 API: `Conv1D(activation=\"relu\", input_shape=(50, 1), filters=100, kernel_size=5)`\n",
      "  import sys\n",
      "C:\\Users\\Noah PC\\Anaconda3\\lib\\site-packages\\ipykernel_launcher.py:19: UserWarning: The `nb_epoch` argument in `fit` has been renamed `epochs`.\n"
     ]
    },
    {
     "name": "stdout",
     "output_type": "stream",
     "text": [
      "_________________________________________________________________\n",
      "Layer (type)                 Output Shape              Param #   \n",
      "=================================================================\n",
      "conv1d_3 (Conv1D)            (None, 46, 100)           600       \n",
      "_________________________________________________________________\n",
      "flatten_3 (Flatten)          (None, 4600)              0         \n",
      "_________________________________________________________________\n",
      "dense_3 (Dense)              (None, 1)                 4601      \n",
      "=================================================================\n",
      "Total params: 5,201\n",
      "Trainable params: 5,201\n",
      "Non-trainable params: 0\n",
      "_________________________________________________________________\n",
      "Train on 940 samples, validate on 10 samples\n",
      "Epoch 1/25\n",
      "940/940 [==============================] - 1s 1ms/step - loss: 0.0040 - mean_absolute_error: 0.0332 - mean_squared_error: 0.0040 - val_loss: 9.8232e-05 - val_mean_absolute_error: 0.0080 - val_mean_squared_error: 9.8232e-05\n",
      "Epoch 2/25\n",
      "940/940 [==============================] - 1s 876us/step - loss: 0.0016 - mean_absolute_error: 0.0184 - mean_squared_error: 0.0016 - val_loss: 6.5461e-05 - val_mean_absolute_error: 0.0060 - val_mean_squared_error: 6.5461e-05\n",
      "Epoch 3/25\n",
      "940/940 [==============================] - 1s 856us/step - loss: 0.0012 - mean_absolute_error: 0.0150 - mean_squared_error: 0.0012 - val_loss: 3.6515e-04 - val_mean_absolute_error: 0.0185 - val_mean_squared_error: 3.6515e-04\n",
      "Epoch 4/25\n",
      "940/940 [==============================] - 1s 866us/step - loss: 0.0013 - mean_absolute_error: 0.0154 - mean_squared_error: 0.0013 - val_loss: 2.4992e-05 - val_mean_absolute_error: 0.0044 - val_mean_squared_error: 2.4992e-05\n",
      "Epoch 5/25\n",
      "940/940 [==============================] - 1s 866us/step - loss: 0.0011 - mean_absolute_error: 0.0140 - mean_squared_error: 0.0011 - val_loss: 3.5412e-05 - val_mean_absolute_error: 0.0038 - val_mean_squared_error: 3.5412e-05\n",
      "Epoch 6/25\n",
      "940/940 [==============================] - 1s 856us/step - loss: 7.2923e-04 - mean_absolute_error: 0.0103 - mean_squared_error: 7.2923e-04 - val_loss: 5.5685e-05 - val_mean_absolute_error: 0.0063 - val_mean_squared_error: 5.5685e-05\n",
      "Epoch 7/25\n",
      "940/940 [==============================] - 1s 896us/step - loss: 9.4287e-04 - mean_absolute_error: 0.0115 - mean_squared_error: 9.4287e-04 - val_loss: 2.0549e-05 - val_mean_absolute_error: 0.0039 - val_mean_squared_error: 2.0549e-05\n",
      "Epoch 8/25\n",
      "940/940 [==============================] - 1s 869us/step - loss: 6.7756e-04 - mean_absolute_error: 0.0101 - mean_squared_error: 6.7756e-04 - val_loss: 2.5069e-05 - val_mean_absolute_error: 0.0045 - val_mean_squared_error: 2.5069e-05\n",
      "Epoch 9/25\n",
      "940/940 [==============================] - 1s 865us/step - loss: 6.5254e-04 - mean_absolute_error: 0.0107 - mean_squared_error: 6.5254e-04 - val_loss: 9.0801e-05 - val_mean_absolute_error: 0.0087 - val_mean_squared_error: 9.0801e-05\n",
      "Epoch 10/25\n",
      "940/940 [==============================] - 1s 870us/step - loss: 5.1723e-04 - mean_absolute_error: 0.0083 - mean_squared_error: 5.1723e-04 - val_loss: 3.0172e-04 - val_mean_absolute_error: 0.0168 - val_mean_squared_error: 3.0172e-04\n",
      "Epoch 11/25\n",
      "940/940 [==============================] - 1s 862us/step - loss: 6.8088e-04 - mean_absolute_error: 0.0114 - mean_squared_error: 6.8088e-04 - val_loss: 1.8734e-05 - val_mean_absolute_error: 0.0031 - val_mean_squared_error: 1.8734e-05\n",
      "Epoch 12/25\n",
      "940/940 [==============================] - 1s 867us/step - loss: 5.2954e-04 - mean_absolute_error: 0.0083 - mean_squared_error: 5.2954e-04 - val_loss: 1.4334e-05 - val_mean_absolute_error: 0.0026 - val_mean_squared_error: 1.4334e-05\n",
      "Epoch 13/25\n",
      "940/940 [==============================] - 1s 868us/step - loss: 6.4678e-04 - mean_absolute_error: 0.0106 - mean_squared_error: 6.4678e-04 - val_loss: 2.3409e-05 - val_mean_absolute_error: 0.0031 - val_mean_squared_error: 2.3409e-05\n",
      "Epoch 14/25\n",
      "940/940 [==============================] - 1s 886us/step - loss: 6.0637e-04 - mean_absolute_error: 0.0111 - mean_squared_error: 6.0637e-04 - val_loss: 3.4081e-05 - val_mean_absolute_error: 0.0045 - val_mean_squared_error: 3.4081e-05\n",
      "Epoch 15/25\n",
      "940/940 [==============================] - 1s 874us/step - loss: 4.8607e-04 - mean_absolute_error: 0.0088 - mean_squared_error: 4.8607e-04 - val_loss: 5.6270e-04 - val_mean_absolute_error: 0.0234 - val_mean_squared_error: 5.6270e-04\n",
      "Epoch 16/25\n",
      "940/940 [==============================] - 1s 877us/step - loss: 5.6316e-04 - mean_absolute_error: 0.0111 - mean_squared_error: 5.6316e-04 - val_loss: 4.7826e-05 - val_mean_absolute_error: 0.0059 - val_mean_squared_error: 4.7826e-05\n",
      "Epoch 17/25\n",
      "940/940 [==============================] - 1s 862us/step - loss: 5.2509e-04 - mean_absolute_error: 0.0108 - mean_squared_error: 5.2509e-04 - val_loss: 2.0569e-05 - val_mean_absolute_error: 0.0041 - val_mean_squared_error: 2.0569e-05\n",
      "Epoch 18/25\n",
      "940/940 [==============================] - 1s 876us/step - loss: 5.1177e-04 - mean_absolute_error: 0.0109 - mean_squared_error: 5.1177e-04 - val_loss: 3.2577e-05 - val_mean_absolute_error: 0.0052 - val_mean_squared_error: 3.2577e-05\n",
      "Epoch 19/25\n",
      "940/940 [==============================] - 1s 860us/step - loss: 5.7868e-04 - mean_absolute_error: 0.0111 - mean_squared_error: 5.7868e-04 - val_loss: 1.3598e-04 - val_mean_absolute_error: 0.0110 - val_mean_squared_error: 1.3598e-04\n",
      "Epoch 20/25\n",
      "940/940 [==============================] - 1s 917us/step - loss: 4.6119e-04 - mean_absolute_error: 0.0100 - mean_squared_error: 4.6119e-04 - val_loss: 1.7705e-05 - val_mean_absolute_error: 0.0037 - val_mean_squared_error: 1.7705e-05\n",
      "Epoch 21/25\n",
      "940/940 [==============================] - 1s 1ms/step - loss: 5.1645e-04 - mean_absolute_error: 0.0090 - mean_squared_error: 5.1645e-04 - val_loss: 0.0021 - val_mean_absolute_error: 0.0460 - val_mean_squared_error: 0.0021\n",
      "Epoch 22/25\n",
      "940/940 [==============================] - 1s 1ms/step - loss: 4.3051e-04 - mean_absolute_error: 0.0087 - mean_squared_error: 4.3051e-04 - val_loss: 2.4595e-05 - val_mean_absolute_error: 0.0033 - val_mean_squared_error: 2.4595e-05\n",
      "Epoch 23/25\n",
      "940/940 [==============================] - 1s 1ms/step - loss: 4.2130e-04 - mean_absolute_error: 0.0077 - mean_squared_error: 4.2130e-04 - val_loss: 2.7182e-04 - val_mean_absolute_error: 0.0159 - val_mean_squared_error: 2.7182e-04\n",
      "Epoch 24/25\n",
      "940/940 [==============================] - 1s 1ms/step - loss: 5.1063e-04 - mean_absolute_error: 0.0096 - mean_squared_error: 5.1063e-04 - val_loss: 5.9796e-05 - val_mean_absolute_error: 0.0067 - val_mean_squared_error: 5.9796e-05\n",
      "Epoch 25/25\n",
      "940/940 [==============================] - 1s 1ms/step - loss: 4.5765e-04 - mean_absolute_error: 0.0097 - mean_squared_error: 4.5765e-04 - val_loss: 5.0003e-05 - val_mean_absolute_error: 0.0054 - val_mean_squared_error: 5.0003e-05\n",
      "Out of Sample Mean Squared Error:  5.000300787430087e-05\n",
      "In Sample Mean Squared Error:  0.0003492821789039846\n"
     ]
    }
   ],
   "source": [
    "model, X_test, y_test = evaluate_timeseries(std_df_train[:1000], 50)"
   ]
  },
  {
   "cell_type": "markdown",
   "metadata": {},
   "source": [
    "## Part d: Apply $L_1$ Regularization to Reduce the Variance"
   ]
  },
  {
   "cell_type": "markdown",
   "metadata": {},
   "source": [
    "𝐿_1 regularization was applied using a 𝜆 parameter that ranged from values between 0.01 and 1. As the\n",
    "value for 𝜆 was increased (but the number of filters was kept constant), we were able to observe a\n",
    "smaller difference between the out-of-sample and in-sample mean-squared errors than we did in the\n",
    "previous case. This can also be explained by the Bias-Variance Tradeoff. In this scenario, we have a\n",
    "higher bias, but a smaller variance. By introducing 𝐿_1 regularization to the model, we have essentially\n",
    "introduced a bias. As such, we observe higher values for the in-sample mean-squared errors than we\n",
    "did in the previous case. However, the differences between the in-sample and out-of-sample mean-\n",
    "squared errors does not increase as much as it did in the previous case, which exemplifies our smaller\n",
    "variance."
   ]
  },
  {
   "cell_type": "code",
   "execution_count": 32,
   "metadata": {},
   "outputs": [],
   "source": [
    "from keras import regularizers"
   ]
  },
  {
   "cell_type": "code",
   "execution_count": 33,
   "metadata": {},
   "outputs": [],
   "source": [
    "def make_timeseries_regressor(window_size, filter_length, nb_input_series=1, nb_outputs=1, nb_filter=4):\n",
    "\n",
    "    model = Sequential((\n",
    "        # The first conv layer learns `nb_filter` filters (aka kernels), each of size ``(filter_length, nb_input_series)``.\n",
    "        # Its output will have shape (None, window_size - filter_length + 1, nb_filter), i.e., for each position in\n",
    "        # the input timeseries, the activation of each filter at that position.\n",
    "        Convolution1D(kernel_regularizer=regularizers.l1(0.1), nb_filter=nb_filter, filter_length=filter_length, activation='relu', input_shape=(window_size, nb_input_series)),\n",
    "        #Added Kernel Regularizer Here: L1 regularization\n",
    "        Flatten(),\n",
    "        Dense(nb_outputs, activation='linear'),     # For binary classification, change the activation to 'sigmoid'\n",
    "    ))\n",
    "    model.compile(loss='mse', optimizer='adam', metrics=['mae','mse'])\n",
    "   \n",
    "    return model"
   ]
  },
  {
   "cell_type": "code",
   "execution_count": 34,
   "metadata": {},
   "outputs": [],
   "source": [
    "def make_timeseries_instances(timeseries, window_size):\n",
    "   \n",
    "    timeseries = np.asarray(timeseries)\n",
    "    assert 0 < window_size < timeseries.shape[0]\n",
    "    X = np.atleast_3d(np.array([timeseries[start:start + window_size] for start in range(0, timeseries.shape[0] - window_size)]))\n",
    "    y = timeseries[window_size:]\n",
    "    q = np.atleast_3d([timeseries[-window_size:]])\n",
    "    return X, y, q"
   ]
  },
  {
   "cell_type": "code",
   "execution_count": 35,
   "metadata": {},
   "outputs": [],
   "source": [
    "def evaluate_timeseries(timeseries, window_size):\n",
    "\n",
    "    filter_length = 5\n",
    "    nb_filter = 20\n",
    "    timeseries = np.atleast_2d(timeseries)\n",
    "    if timeseries.shape[0] == 1:\n",
    "        timeseries = timeseries.T       # Convert 1D vectors to 2D column vectors\n",
    "\n",
    "    nb_samples, nb_series = timeseries.shape\n",
    "    model = make_timeseries_regressor(window_size=window_size, filter_length=filter_length, nb_input_series=nb_series, nb_outputs=nb_series, nb_filter=nb_filter)\n",
    "    model.summary()\n",
    "\n",
    "    X, y, q = make_timeseries_instances(timeseries, window_size)\n",
    "    test_size = int(0.01 * nb_samples)           # In real life you'd want to use 0.2 - 0.5\n",
    "    X_train, X_test, y_train, y_test = X[:-test_size], X[-test_size:], y[:-test_size], y[-test_size:]\n",
    "    model.fit(X_train, y_train, nb_epoch=25, batch_size=2, validation_data=(X_test, y_test))\n",
    "\n",
    "    pred_out_sample = model.predict(X_test)\n",
    "    pred_in_sample = model.predict(X_train)\n",
    "    \n",
    "    print('Out of Sample Mean Squared Error: ',mean_squared_error(pred_out_sample,y_test))\n",
    "    print('In Sample Mean Squared Error: ',mean_squared_error(pred_in_sample,y_train))\n",
    "    \n",
    "    \n",
    "    return model"
   ]
  },
  {
   "cell_type": "code",
   "execution_count": 36,
   "metadata": {
    "scrolled": true
   },
   "outputs": [
    {
     "name": "stderr",
     "output_type": "stream",
     "text": [
      "C:\\Users\\Noah PC\\Anaconda3\\lib\\site-packages\\ipykernel_launcher.py:7: UserWarning: Update your `Conv1D` call to the Keras 2 API: `Conv1D(kernel_regularizer=<keras.reg..., activation=\"relu\", input_shape=(50, 1), filters=20, kernel_size=5)`\n",
      "  import sys\n",
      "C:\\Users\\Noah PC\\Anaconda3\\lib\\site-packages\\ipykernel_launcher.py:19: UserWarning: The `nb_epoch` argument in `fit` has been renamed `epochs`.\n"
     ]
    },
    {
     "name": "stdout",
     "output_type": "stream",
     "text": [
      "_________________________________________________________________\n",
      "Layer (type)                 Output Shape              Param #   \n",
      "=================================================================\n",
      "conv1d_4 (Conv1D)            (None, 46, 20)            120       \n",
      "_________________________________________________________________\n",
      "flatten_4 (Flatten)          (None, 920)               0         \n",
      "_________________________________________________________________\n",
      "dense_4 (Dense)              (None, 1)                 921       \n",
      "=================================================================\n",
      "Total params: 1,041\n",
      "Trainable params: 1,041\n",
      "Non-trainable params: 0\n",
      "_________________________________________________________________\n",
      "Train on 4900 samples, validate on 50 samples\n",
      "Epoch 1/25\n",
      "4900/4900 [==============================] - 5s 960us/step - loss: 0.0516 - mean_absolute_error: 0.0414 - mean_squared_error: 0.0045 - val_loss: 0.0055 - val_mean_absolute_error: 0.0050 - val_mean_squared_error: 2.5724e-05\n",
      "Epoch 2/25\n",
      "4900/4900 [==============================] - 4s 824us/step - loss: 0.0086 - mean_absolute_error: 0.0319 - mean_squared_error: 0.0030 - val_loss: 0.0088 - val_mean_absolute_error: 0.0592 - val_mean_squared_error: 0.0035\n",
      "Epoch 3/25\n",
      "4900/4900 [==============================] - 4s 781us/step - loss: 0.0073 - mean_absolute_error: 0.0295 - mean_squared_error: 0.0027 - val_loss: 0.0042 - val_mean_absolute_error: 0.0099 - val_mean_squared_error: 9.9252e-05\n",
      "Epoch 4/25\n",
      "4900/4900 [==============================] - 4s 788us/step - loss: 0.0068 - mean_absolute_error: 0.0281 - mean_squared_error: 0.0025 - val_loss: 0.0048 - val_mean_absolute_error: 0.0221 - val_mean_squared_error: 4.8889e-04\n",
      "Epoch 5/25\n",
      "4900/4900 [==============================] - 4s 897us/step - loss: 0.0065 - mean_absolute_error: 0.0283 - mean_squared_error: 0.0024 - val_loss: 0.0040 - val_mean_absolute_error: 0.0057 - val_mean_squared_error: 3.2971e-05\n",
      "Epoch 6/25\n",
      "4900/4900 [==============================] - 5s 970us/step - loss: 0.0060 - mean_absolute_error: 0.0256 - mean_squared_error: 0.0022 - val_loss: 0.0043 - val_mean_absolute_error: 0.0243 - val_mean_squared_error: 5.9119e-04\n",
      "Epoch 7/25\n",
      "4900/4900 [==============================] - 5s 973us/step - loss: 0.0059 - mean_absolute_error: 0.0261 - mean_squared_error: 0.0021 - val_loss: 0.0039 - val_mean_absolute_error: 0.0080 - val_mean_squared_error: 6.4790e-05\n",
      "Epoch 8/25\n",
      "4900/4900 [==============================] - 5s 1ms/step - loss: 0.0056 - mean_absolute_error: 0.0242 - mean_squared_error: 0.0019 - val_loss: 0.0042 - val_mean_absolute_error: 0.0234 - val_mean_squared_error: 5.4620e-04\n",
      "Epoch 9/25\n",
      "4900/4900 [==============================] - 5s 1ms/step - loss: 0.0055 - mean_absolute_error: 0.0236 - mean_squared_error: 0.0018 - val_loss: 0.0040 - val_mean_absolute_error: 0.0101 - val_mean_squared_error: 1.0301e-04\n",
      "Epoch 10/25\n",
      "4900/4900 [==============================] - 5s 1ms/step - loss: 0.0056 - mean_absolute_error: 0.0257 - mean_squared_error: 0.0020 - val_loss: 0.0056 - val_mean_absolute_error: 0.0399 - val_mean_squared_error: 0.0016\n",
      "Epoch 11/25\n",
      "4900/4900 [==============================] - 5s 1ms/step - loss: 0.0054 - mean_absolute_error: 0.0227 - mean_squared_error: 0.0017 - val_loss: 0.0035 - val_mean_absolute_error: 0.0029 - val_mean_squared_error: 8.9734e-06\n",
      "Epoch 12/25\n",
      "4900/4900 [==============================] - 5s 1ms/step - loss: 0.0054 - mean_absolute_error: 0.0223 - mean_squared_error: 0.0018 - val_loss: 0.0039 - val_mean_absolute_error: 0.0170 - val_mean_squared_error: 2.8865e-04\n",
      "Epoch 13/25\n",
      "4900/4900 [==============================] - 5s 1ms/step - loss: 0.0054 - mean_absolute_error: 0.0230 - mean_squared_error: 0.0018 - val_loss: 0.0037 - val_mean_absolute_error: 0.0154 - val_mean_squared_error: 2.3773e-04\n",
      "Epoch 14/25\n",
      "4900/4900 [==============================] - 5s 1ms/step - loss: 0.0051 - mean_absolute_error: 0.0224 - mean_squared_error: 0.0016 - val_loss: 0.0038 - val_mean_absolute_error: 0.0131 - val_mean_squared_error: 1.7115e-04\n",
      "Epoch 15/25\n",
      "4900/4900 [==============================] - 5s 1ms/step - loss: 0.0052 - mean_absolute_error: 0.0213 - mean_squared_error: 0.0017 - val_loss: 0.0069 - val_mean_absolute_error: 0.0546 - val_mean_squared_error: 0.0030\n",
      "Epoch 16/25\n",
      "4900/4900 [==============================] - 5s 1ms/step - loss: 0.0051 - mean_absolute_error: 0.0218 - mean_squared_error: 0.0016 - val_loss: 0.0037 - val_mean_absolute_error: 0.0091 - val_mean_squared_error: 8.3310e-05\n",
      "Epoch 17/25\n",
      "4900/4900 [==============================] - 5s 1ms/step - loss: 0.0049 - mean_absolute_error: 0.0206 - mean_squared_error: 0.0014 - val_loss: 0.0035 - val_mean_absolute_error: 0.0062 - val_mean_squared_error: 3.8864e-05\n",
      "Epoch 18/25\n",
      "4900/4900 [==============================] - 5s 1ms/step - loss: 0.0051 - mean_absolute_error: 0.0215 - mean_squared_error: 0.0016 - val_loss: 0.0034 - val_mean_absolute_error: 0.0103 - val_mean_squared_error: 1.0650e-04\n",
      "Epoch 19/25\n",
      "4900/4900 [==============================] - 5s 1ms/step - loss: 0.0050 - mean_absolute_error: 0.0210 - mean_squared_error: 0.0016 - val_loss: 0.0045 - val_mean_absolute_error: 0.0042 - val_mean_squared_error: 1.8124e-05\n",
      "Epoch 20/25\n",
      "4900/4900 [==============================] - 5s 1ms/step - loss: 0.0050 - mean_absolute_error: 0.0218 - mean_squared_error: 0.0016 - val_loss: 0.0041 - val_mean_absolute_error: 0.0212 - val_mean_squared_error: 4.5176e-04\n",
      "Epoch 21/25\n",
      "4900/4900 [==============================] - 5s 1ms/step - loss: 0.0050 - mean_absolute_error: 0.0219 - mean_squared_error: 0.0016 - val_loss: 0.0046 - val_mean_absolute_error: 0.0053 - val_mean_squared_error: 2.8433e-05\n",
      "Epoch 22/25\n",
      "4900/4900 [==============================] - 5s 1ms/step - loss: 0.0050 - mean_absolute_error: 0.0221 - mean_squared_error: 0.0016 - val_loss: 0.0036 - val_mean_absolute_error: 0.0020 - val_mean_squared_error: 4.1323e-06\n",
      "Epoch 23/25\n",
      "4900/4900 [==============================] - 5s 1ms/step - loss: 0.0047 - mean_absolute_error: 0.0206 - mean_squared_error: 0.0014 - val_loss: 0.0042 - val_mean_absolute_error: 0.0308 - val_mean_squared_error: 9.4905e-04\n",
      "Epoch 24/25\n",
      "4900/4900 [==============================] - 5s 1ms/step - loss: 0.0047 - mean_absolute_error: 0.0203 - mean_squared_error: 0.0014 - val_loss: 0.0036 - val_mean_absolute_error: 0.0134 - val_mean_squared_error: 1.7891e-04\n",
      "Epoch 25/25\n",
      "4900/4900 [==============================] - 5s 1ms/step - loss: 0.0050 - mean_absolute_error: 0.0235 - mean_squared_error: 0.0017 - val_loss: 0.0037 - val_mean_absolute_error: 0.0226 - val_mean_squared_error: 5.1050e-04\n",
      "Out of Sample Mean Squared Error:  0.000510503708712955\n",
      "In Sample Mean Squared Error:  0.001663207508773779\n"
     ]
    }
   ],
   "source": [
    "model = evaluate_timeseries(std_df_train[:5000], 50)"
   ]
  },
  {
   "cell_type": "markdown",
   "metadata": {},
   "source": [
    "## Part e: Determine Whether the Model Error is White Noise or Auto-correlated Using Ljung-Box Test."
   ]
  },
  {
   "cell_type": "markdown",
   "metadata": {},
   "source": [
    "Conclusion: White Noise. \n",
    "\n",
    "Justification: Running the Ljung-Box test on the HFT dataset, we obtain small test statistics, or p-values.\n",
    "As such, there does not exist sufficient evidence to reject the null hypothesis. Put another way, there\n",
    "does not exist reasonable evidence to conclude that the model error is autocorrelated, so we fail to\n",
    "reject the null hypothesis, concluding instead that the model error is white noise."
   ]
  },
  {
   "cell_type": "code",
   "execution_count": 37,
   "metadata": {},
   "outputs": [],
   "source": [
    "T=100000"
   ]
  },
  {
   "cell_type": "code",
   "execution_count": 38,
   "metadata": {},
   "outputs": [],
   "source": [
    "pred_out_sample = model.predict(X_test)"
   ]
  },
  {
   "cell_type": "code",
   "execution_count": 39,
   "metadata": {},
   "outputs": [],
   "source": [
    "residual = pred_out_sample-y_test"
   ]
  },
  {
   "cell_type": "code",
   "execution_count": 40,
   "metadata": {},
   "outputs": [],
   "source": [
    "lb,p=sm.stats.diagnostic.acorr_ljungbox(residual, lags=9, boxpierce=False)"
   ]
  },
  {
   "cell_type": "code",
   "execution_count": 41,
   "metadata": {},
   "outputs": [
    {
     "data": {
      "text/plain": [
       "array([ 4.61658566,  5.49214988,  5.51013436,  6.04018039,  7.00702677,\n",
       "        9.10191919, 11.58875067, 17.51495799, 21.0254082 ])"
      ]
     },
     "execution_count": 41,
     "metadata": {},
     "output_type": "execute_result"
    }
   ],
   "source": [
    "lb"
   ]
  },
  {
   "cell_type": "code",
   "execution_count": 42,
   "metadata": {},
   "outputs": [
    {
     "data": {
      "text/plain": [
       "array([0.03166421, 0.06417928, 0.13803373, 0.19616761, 0.22011824,\n",
       "       0.16792682, 0.11492018, 0.02517188, 0.01253808])"
      ]
     },
     "execution_count": 42,
     "metadata": {},
     "output_type": "execute_result"
    }
   ],
   "source": [
    "p"
   ]
  }
 ],
 "metadata": {
  "colab": {
   "name": "Noah Grudowski MATH 527 Homework 3.ipynb",
   "provenance": []
  },
  "kernelspec": {
   "display_name": "Python 3",
   "language": "python",
   "name": "python3"
  },
  "language_info": {
   "codemirror_mode": {
    "name": "ipython",
    "version": 3
   },
   "file_extension": ".py",
   "mimetype": "text/x-python",
   "name": "python",
   "nbconvert_exporter": "python",
   "pygments_lexer": "ipython3",
   "version": "3.6.10"
  }
 },
 "nbformat": 4,
 "nbformat_minor": 1
}

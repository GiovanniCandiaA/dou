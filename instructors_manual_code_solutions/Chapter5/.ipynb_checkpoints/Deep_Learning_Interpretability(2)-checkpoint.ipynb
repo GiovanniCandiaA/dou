{
 "cells": [
  {
   "cell_type": "code",
   "execution_count": 0,
   "metadata": {
    "colab": {},
    "colab_type": "code",
    "id": "_BhYVeX1Cf-9"
   },
   "outputs": [],
   "source": [
    "# ML_in_Finance-Deep-Learning-Interpretability\n",
    "# Author: Matthew Dixon\n",
    "# Version: 1.0 (08.09.2019)\n",
    "# License: MIT\n",
    "# Email: matthew.dixon@iit.edu\n",
    "# Notes: tested on Mac OS X with Python 3.6 and Tensorflow 1.3.0\n",
    "# Citation: Please cite the following reference if this notebook is used for research purposes:\n",
    "# Bilokon P., Dixon M.F. and I. Halperin, Machine Learning in Finance: From Theory to Practice, Springer Graduate textbook Series, 2020. "
   ]
  },
  {
   "cell_type": "code",
   "execution_count": 0,
   "metadata": {
    "colab": {
     "base_uri": "https://localhost:8080/",
     "height": 34
    },
    "colab_type": "code",
    "id": "KDpVDW6bCf_B",
    "outputId": "e6786299-7291-4d47-9b21-d5c6f1b15235"
   },
   "outputs": [
    {
     "name": "stderr",
     "output_type": "stream",
     "text": [
      "Using TensorFlow backend.\n"
     ]
    }
   ],
   "source": [
    "import random\n",
    "import pandas as pd\n",
    "import numpy as np\n",
    "import seaborn as sns\n",
    "import math\n",
    "from datetime import datetime\n",
    "from keras.models import Sequential\n",
    "from keras.layers import Dense, Dropout\n",
    "from keras.utils import to_categorical\n",
    "from keras.regularizers import l1,l2\n",
    "from keras.callbacks import EarlyStopping\n",
    "from keras.wrappers.scikit_learn import KerasRegressor, KerasClassifier\n",
    "from sklearn.model_selection import KFold, StratifiedKFold, GridSearchCV, cross_val_score, train_test_split\n",
    "from sklearn import model_selection\n",
    "from sklearn.linear_model import LinearRegression\n",
    "from sklearn.feature_selection import f_regression\n",
    "from sklearn import metrics\n",
    "from sklearn import preprocessing\n",
    "import matplotlib.pyplot as plt\n",
    "from sklearn.metrics import mean_squared_error, r2_score, explained_variance_score, mean_absolute_error\n",
    "import statsmodels.api as sm\n",
    "import statsmodels.stats.diagnostic as tds\n",
    "from statsmodels.api import add_constant\n",
    "from scipy import stats\n"
   ]
  },
  {
   "cell_type": "markdown",
   "metadata": {
    "colab_type": "text",
    "id": "g4qB3GfnCf_G"
   },
   "source": [
    "# Simple Data Generation Process (DGP)\n",
    "\n",
    "$Y=X_1+X_2 + \\epsilon, ~X_1, X_2, \\epsilon \\sim N(0,1)$"
   ]
  },
  {
   "cell_type": "code",
   "execution_count": 0,
   "metadata": {
    "colab": {},
    "colab_type": "code",
    "id": "Xkt_PiqHCf_H"
   },
   "outputs": [],
   "source": [
    "M = 5000 # Number of sample \n",
    "np.random.seed(7) # set the seed for reproducebility of results\n",
    "X = np.zeros(shape=(M,2))\n",
    "X[:int(M/2),0]= np.random.randn(int(M/2))\n",
    "X[:int(M/2),1]= np.random.randn(int(M/2))\n",
    "\n",
    "X[int(M/2):,0]= -X[:int(M/2),0]\n",
    "X[int(M/2):,1]= -X[:int(M/2),1]\n",
    "\n",
    "\n",
    "eps= np.random.randn(M)\n",
    "Y= 1.0*X[:,0] + 1.0*X[:,1] + eps"
   ]
  },
  {
   "cell_type": "markdown",
   "metadata": {
    "colab_type": "text",
    "id": "CopdPQexCf_L"
   },
   "source": [
    "# Use OLS to fit the model to the data"
   ]
  },
  {
   "cell_type": "code",
   "execution_count": 0,
   "metadata": {
    "colab": {},
    "colab_type": "code",
    "id": "IaktPgc2Cf_M"
   },
   "outputs": [],
   "source": [
    "ols_results = sm.OLS(Y, sm.add_constant(X)).fit()"
   ]
  },
  {
   "cell_type": "code",
   "execution_count": 0,
   "metadata": {
    "colab": {},
    "colab_type": "code",
    "id": "As410BGbCf_Q"
   },
   "outputs": [],
   "source": [
    "y_ols=ols_results.predict(sm.add_constant(X))"
   ]
  },
  {
   "cell_type": "code",
   "execution_count": 0,
   "metadata": {
    "colab": {
     "base_uri": "https://localhost:8080/",
     "height": 446
    },
    "colab_type": "code",
    "id": "rot0jCXiCf_U",
    "outputId": "a76f4f80-6b99-49bb-fa33-363776ff1fc0"
   },
   "outputs": [
    {
     "data": {
      "text/html": [
       "<table class=\"simpletable\">\n",
       "<caption>OLS Regression Results</caption>\n",
       "<tr>\n",
       "  <th>Dep. Variable:</th>            <td>y</td>        <th>  R-squared:         </th> <td>   0.673</td> \n",
       "</tr>\n",
       "<tr>\n",
       "  <th>Model:</th>                   <td>OLS</td>       <th>  Adj. R-squared:    </th> <td>   0.673</td> \n",
       "</tr>\n",
       "<tr>\n",
       "  <th>Method:</th>             <td>Least Squares</td>  <th>  F-statistic:       </th> <td>   5150.</td> \n",
       "</tr>\n",
       "<tr>\n",
       "  <th>Date:</th>             <td>Mon, 30 Sep 2019</td> <th>  Prob (F-statistic):</th>  <td>  0.00</td>  \n",
       "</tr>\n",
       "<tr>\n",
       "  <th>Time:</th>                 <td>03:19:53</td>     <th>  Log-Likelihood:    </th> <td> -7041.3</td> \n",
       "</tr>\n",
       "<tr>\n",
       "  <th>No. Observations:</th>      <td>  5000</td>      <th>  AIC:               </th> <td>1.409e+04</td>\n",
       "</tr>\n",
       "<tr>\n",
       "  <th>Df Residuals:</th>          <td>  4997</td>      <th>  BIC:               </th> <td>1.411e+04</td>\n",
       "</tr>\n",
       "<tr>\n",
       "  <th>Df Model:</th>              <td>     2</td>      <th>                     </th>     <td> </td>    \n",
       "</tr>\n",
       "<tr>\n",
       "  <th>Covariance Type:</th>      <td>nonrobust</td>    <th>                     </th>     <td> </td>    \n",
       "</tr>\n",
       "</table>\n",
       "<table class=\"simpletable\">\n",
       "<tr>\n",
       "    <td></td>       <th>coef</th>     <th>std err</th>      <th>t</th>      <th>P>|t|</th>  <th>[0.025</th>    <th>0.975]</th>  \n",
       "</tr>\n",
       "<tr>\n",
       "  <th>const</th> <td>    0.0040</td> <td>    0.014</td> <td>    0.289</td> <td> 0.773</td> <td>   -0.023</td> <td>    0.031</td>\n",
       "</tr>\n",
       "<tr>\n",
       "  <th>x1</th>    <td>    0.9905</td> <td>    0.014</td> <td>   70.447</td> <td> 0.000</td> <td>    0.963</td> <td>    1.018</td>\n",
       "</tr>\n",
       "<tr>\n",
       "  <th>x2</th>    <td>    1.0038</td> <td>    0.014</td> <td>   71.306</td> <td> 0.000</td> <td>    0.976</td> <td>    1.031</td>\n",
       "</tr>\n",
       "</table>\n",
       "<table class=\"simpletable\">\n",
       "<tr>\n",
       "  <th>Omnibus:</th>       <td> 0.693</td> <th>  Durbin-Watson:     </th> <td>   1.971</td>\n",
       "</tr>\n",
       "<tr>\n",
       "  <th>Prob(Omnibus):</th> <td> 0.707</td> <th>  Jarque-Bera (JB):  </th> <td>   0.643</td>\n",
       "</tr>\n",
       "<tr>\n",
       "  <th>Skew:</th>          <td>-0.020</td> <th>  Prob(JB):          </th> <td>   0.725</td>\n",
       "</tr>\n",
       "<tr>\n",
       "  <th>Kurtosis:</th>      <td> 3.039</td> <th>  Cond. No.          </th> <td>    1.02</td>\n",
       "</tr>\n",
       "</table><br/><br/>Warnings:<br/>[1] Standard Errors assume that the covariance matrix of the errors is correctly specified."
      ],
      "text/plain": [
       "<class 'statsmodels.iolib.summary.Summary'>\n",
       "\"\"\"\n",
       "                            OLS Regression Results                            \n",
       "==============================================================================\n",
       "Dep. Variable:                      y   R-squared:                       0.673\n",
       "Model:                            OLS   Adj. R-squared:                  0.673\n",
       "Method:                 Least Squares   F-statistic:                     5150.\n",
       "Date:                Mon, 30 Sep 2019   Prob (F-statistic):               0.00\n",
       "Time:                        03:19:53   Log-Likelihood:                -7041.3\n",
       "No. Observations:                5000   AIC:                         1.409e+04\n",
       "Df Residuals:                    4997   BIC:                         1.411e+04\n",
       "Df Model:                           2                                         \n",
       "Covariance Type:            nonrobust                                         \n",
       "==============================================================================\n",
       "                 coef    std err          t      P>|t|      [0.025      0.975]\n",
       "------------------------------------------------------------------------------\n",
       "const          0.0040      0.014      0.289      0.773      -0.023       0.031\n",
       "x1             0.9905      0.014     70.447      0.000       0.963       1.018\n",
       "x2             1.0038      0.014     71.306      0.000       0.976       1.031\n",
       "==============================================================================\n",
       "Omnibus:                        0.693   Durbin-Watson:                   1.971\n",
       "Prob(Omnibus):                  0.707   Jarque-Bera (JB):                0.643\n",
       "Skew:                          -0.020   Prob(JB):                        0.725\n",
       "Kurtosis:                       3.039   Cond. No.                         1.02\n",
       "==============================================================================\n",
       "\n",
       "Warnings:\n",
       "[1] Standard Errors assume that the covariance matrix of the errors is correctly specified.\n",
       "\"\"\""
      ]
     },
     "execution_count": 6,
     "metadata": {
      "tags": []
     },
     "output_type": "execute_result"
    }
   ],
   "source": [
    "ols_results.summary()"
   ]
  },
  {
   "cell_type": "markdown",
   "metadata": {
    "colab_type": "text",
    "id": "IXPbwA-LCf_Y"
   },
   "source": [
    "# Compare with a ffwd neural network with no hidden layers"
   ]
  },
  {
   "cell_type": "code",
   "execution_count": 0,
   "metadata": {
    "colab": {},
    "colab_type": "code",
    "id": "VJdXs4IRCf_Z"
   },
   "outputs": [],
   "source": [
    "def linear_NN0_model(l1_reg=0.0):    \n",
    "    model = Sequential()\n",
    "    model.add(Dense(1, input_dim=2, kernel_initializer='normal')) #, activation='None'))\n",
    "    model.compile(loss='mean_squared_error', optimizer='adam', metrics=['mae', 'mse'])\n",
    "    return model"
   ]
  },
  {
   "cell_type": "code",
   "execution_count": 0,
   "metadata": {
    "colab": {},
    "colab_type": "code",
    "id": "7vaRqZCJCf_d"
   },
   "outputs": [],
   "source": [
    "es = EarlyStopping(monitor='loss', mode='min', verbose=1, patience=10)"
   ]
  },
  {
   "cell_type": "code",
   "execution_count": 0,
   "metadata": {
    "colab": {},
    "colab_type": "code",
    "id": "4JxCnS13Cf_h"
   },
   "outputs": [],
   "source": [
    "lm = KerasRegressor(build_fn=linear_NN0_model, epochs=40, batch_size=10, verbose=1, callbacks=[es])"
   ]
  },
  {
   "cell_type": "code",
   "execution_count": 0,
   "metadata": {
    "colab": {
     "base_uri": "https://localhost:8080/",
     "height": 877
    },
    "colab_type": "code",
    "collapsed": true,
    "id": "vvlYYPH4Cf_m",
    "outputId": "c2b0f78d-e6d9-4a25-fc03-a6571397d229"
   },
   "outputs": [
    {
     "name": "stdout",
     "output_type": "stream",
     "text": [
      "WARNING:tensorflow:From /usr/local/lib/python3.6/dist-packages/keras/backend/tensorflow_backend.py:66: The name tf.get_default_graph is deprecated. Please use tf.compat.v1.get_default_graph instead.\n",
      "\n",
      "WARNING:tensorflow:From /usr/local/lib/python3.6/dist-packages/keras/backend/tensorflow_backend.py:541: The name tf.placeholder is deprecated. Please use tf.compat.v1.placeholder instead.\n",
      "\n",
      "WARNING:tensorflow:From /usr/local/lib/python3.6/dist-packages/keras/backend/tensorflow_backend.py:4409: The name tf.random_normal is deprecated. Please use tf.random.normal instead.\n",
      "\n",
      "WARNING:tensorflow:From /usr/local/lib/python3.6/dist-packages/keras/optimizers.py:793: The name tf.train.Optimizer is deprecated. Please use tf.compat.v1.train.Optimizer instead.\n",
      "\n",
      "WARNING:tensorflow:From /usr/local/lib/python3.6/dist-packages/keras/backend/tensorflow_backend.py:1033: The name tf.assign_add is deprecated. Please use tf.compat.v1.assign_add instead.\n",
      "\n",
      "WARNING:tensorflow:From /usr/local/lib/python3.6/dist-packages/keras/backend/tensorflow_backend.py:1020: The name tf.assign is deprecated. Please use tf.compat.v1.assign instead.\n",
      "\n",
      "Epoch 1/40\n",
      "5000/5000 [==============================] - 1s 194us/step - loss: 2.1102 - mean_absolute_error: 1.1574 - mean_squared_error: 2.1102\n",
      "Epoch 2/40\n",
      "5000/5000 [==============================] - 0s 91us/step - loss: 1.3522 - mean_absolute_error: 0.9307 - mean_squared_error: 1.3522\n",
      "Epoch 3/40\n",
      "5000/5000 [==============================] - 0s 94us/step - loss: 1.0697 - mean_absolute_error: 0.8257 - mean_squared_error: 1.0697\n",
      "Epoch 4/40\n",
      "5000/5000 [==============================] - 0s 89us/step - loss: 0.9946 - mean_absolute_error: 0.7965 - mean_squared_error: 0.9946\n",
      "Epoch 5/40\n",
      "5000/5000 [==============================] - 0s 97us/step - loss: 0.9814 - mean_absolute_error: 0.7907 - mean_squared_error: 0.9814\n",
      "Epoch 6/40\n",
      "5000/5000 [==============================] - 0s 91us/step - loss: 0.9797 - mean_absolute_error: 0.7899 - mean_squared_error: 0.9797\n",
      "Epoch 7/40\n",
      "5000/5000 [==============================] - 0s 91us/step - loss: 0.9795 - mean_absolute_error: 0.7897 - mean_squared_error: 0.9795\n",
      "Epoch 8/40\n",
      "5000/5000 [==============================] - 0s 89us/step - loss: 0.9795 - mean_absolute_error: 0.7897 - mean_squared_error: 0.9795\n",
      "Epoch 9/40\n",
      "5000/5000 [==============================] - 0s 95us/step - loss: 0.9796 - mean_absolute_error: 0.7899 - mean_squared_error: 0.9796\n",
      "Epoch 10/40\n",
      "5000/5000 [==============================] - 0s 89us/step - loss: 0.9796 - mean_absolute_error: 0.7897 - mean_squared_error: 0.9796\n",
      "Epoch 11/40\n",
      "5000/5000 [==============================] - 0s 98us/step - loss: 0.9796 - mean_absolute_error: 0.7896 - mean_squared_error: 0.9796\n",
      "Epoch 12/40\n",
      "5000/5000 [==============================] - 0s 94us/step - loss: 0.9795 - mean_absolute_error: 0.7896 - mean_squared_error: 0.9795\n",
      "Epoch 13/40\n",
      "5000/5000 [==============================] - 0s 84us/step - loss: 0.9797 - mean_absolute_error: 0.7899 - mean_squared_error: 0.9797\n",
      "Epoch 14/40\n",
      "5000/5000 [==============================] - 0s 88us/step - loss: 0.9795 - mean_absolute_error: 0.7897 - mean_squared_error: 0.9795\n",
      "Epoch 15/40\n",
      "5000/5000 [==============================] - 0s 92us/step - loss: 0.9797 - mean_absolute_error: 0.7899 - mean_squared_error: 0.9797\n",
      "Epoch 16/40\n",
      "5000/5000 [==============================] - 0s 87us/step - loss: 0.9798 - mean_absolute_error: 0.7899 - mean_squared_error: 0.9798\n",
      "Epoch 17/40\n",
      "5000/5000 [==============================] - 0s 86us/step - loss: 0.9797 - mean_absolute_error: 0.7900 - mean_squared_error: 0.9797\n",
      "Epoch 18/40\n",
      "5000/5000 [==============================] - 0s 89us/step - loss: 0.9797 - mean_absolute_error: 0.7898 - mean_squared_error: 0.9797\n",
      "Epoch 00018: early stopping\n"
     ]
    },
    {
     "data": {
      "text/plain": [
       "<keras.callbacks.History at 0x7f3a818e57b8>"
      ]
     },
     "execution_count": 10,
     "metadata": {
      "tags": []
     },
     "output_type": "execute_result"
    }
   ],
   "source": [
    "lm.fit(X,Y)"
   ]
  },
  {
   "cell_type": "markdown",
   "metadata": {
    "colab_type": "text",
    "id": "XwRFJgtxCf_s"
   },
   "source": [
    "## Check that the weights are close to one"
   ]
  },
  {
   "cell_type": "code",
   "execution_count": 0,
   "metadata": {
    "colab": {
     "base_uri": "https://localhost:8080/",
     "height": 50
    },
    "colab_type": "code",
    "id": "as5pHRxcCf_t",
    "outputId": "cb85cfb8-4d51-4bfd-b09a-a6910ef7b674"
   },
   "outputs": [
    {
     "data": {
      "text/plain": [
       "[array([[0.9923921],\n",
       "        [1.0040272]], dtype=float32), array([0.0062316], dtype=float32)]"
      ]
     },
     "execution_count": 11,
     "metadata": {
      "tags": []
     },
     "output_type": "execute_result"
    }
   ],
   "source": [
    "lm.model.get_weights()"
   ]
  },
  {
   "cell_type": "markdown",
   "metadata": {
    "colab_type": "text",
    "id": "iKp9Dnb-Cf_w"
   },
   "source": [
    "# Compare with a FFW Neural Network with one hidden layer (unactivated)\n"
   ]
  },
  {
   "cell_type": "code",
   "execution_count": 0,
   "metadata": {
    "colab": {},
    "colab_type": "code",
    "id": "5H_XAAtLCf_x"
   },
   "outputs": [],
   "source": [
    "n = 200 # number of hidden units"
   ]
  },
  {
   "cell_type": "code",
   "execution_count": 0,
   "metadata": {
    "colab": {},
    "colab_type": "code",
    "id": "b4wLagz0Cf_0"
   },
   "outputs": [],
   "source": [
    "def linear_NN1_model(l1_reg=0.0):    \n",
    "    model = Sequential()\n",
    "    model.add(Dense(n, input_dim=2, kernel_initializer='normal')) \n",
    "    model.add(Dense(1, kernel_initializer='normal', activation='linear'))\n",
    "    model.compile(loss='mean_squared_error', optimizer='adam', metrics=['mae', 'mse'])\n",
    "    return model"
   ]
  },
  {
   "cell_type": "code",
   "execution_count": 0,
   "metadata": {
    "colab": {},
    "colab_type": "code",
    "id": "INR2diRYCf_6"
   },
   "outputs": [],
   "source": [
    "lm = KerasRegressor(build_fn=linear_NN1_model, epochs=50, batch_size=10, verbose=1, callbacks=[es])"
   ]
  },
  {
   "cell_type": "code",
   "execution_count": 0,
   "metadata": {
    "colab": {
     "base_uri": "https://localhost:8080/",
     "height": 944
    },
    "colab_type": "code",
    "id": "tlnp9QBPCgAB",
    "outputId": "be7cc98c-f10a-4e4c-8fb3-07f9af6f4616",
    "scrolled": true
   },
   "outputs": [
    {
     "name": "stdout",
     "output_type": "stream",
     "text": [
      "Epoch 1/50\n",
      "5000/5000 [==============================] - 1s 165us/step - loss: 1.1038 - mean_absolute_error: 0.8298 - mean_squared_error: 1.1038\n",
      "Epoch 2/50\n",
      "5000/5000 [==============================] - 1s 107us/step - loss: 0.9875 - mean_absolute_error: 0.7936 - mean_squared_error: 0.9875\n",
      "Epoch 3/50\n",
      "5000/5000 [==============================] - 1s 101us/step - loss: 0.9870 - mean_absolute_error: 0.7926 - mean_squared_error: 0.9870\n",
      "Epoch 4/50\n",
      "5000/5000 [==============================] - 1s 105us/step - loss: 0.9886 - mean_absolute_error: 0.7942 - mean_squared_error: 0.9886\n",
      "Epoch 5/50\n",
      "5000/5000 [==============================] - 1s 108us/step - loss: 0.9870 - mean_absolute_error: 0.7918 - mean_squared_error: 0.9870\n",
      "Epoch 6/50\n",
      "5000/5000 [==============================] - 1s 109us/step - loss: 0.9866 - mean_absolute_error: 0.7927 - mean_squared_error: 0.9866\n",
      "Epoch 7/50\n",
      "5000/5000 [==============================] - 1s 105us/step - loss: 0.9887 - mean_absolute_error: 0.7942 - mean_squared_error: 0.9887\n",
      "Epoch 8/50\n",
      "5000/5000 [==============================] - 1s 108us/step - loss: 0.9872 - mean_absolute_error: 0.7928 - mean_squared_error: 0.9872\n",
      "Epoch 9/50\n",
      "5000/5000 [==============================] - 1s 110us/step - loss: 0.9874 - mean_absolute_error: 0.7922 - mean_squared_error: 0.9874\n",
      "Epoch 10/50\n",
      "5000/5000 [==============================] - 1s 144us/step - loss: 0.9893 - mean_absolute_error: 0.7942 - mean_squared_error: 0.9893\n",
      "Epoch 11/50\n",
      "5000/5000 [==============================] - 1s 107us/step - loss: 0.9884 - mean_absolute_error: 0.7930 - mean_squared_error: 0.9884\n",
      "Epoch 12/50\n",
      "5000/5000 [==============================] - 1s 107us/step - loss: 0.9877 - mean_absolute_error: 0.7924 - mean_squared_error: 0.9877\n",
      "Epoch 13/50\n",
      "5000/5000 [==============================] - 1s 106us/step - loss: 0.9852 - mean_absolute_error: 0.7919 - mean_squared_error: 0.9852\n",
      "Epoch 14/50\n",
      "5000/5000 [==============================] - 1s 109us/step - loss: 0.9851 - mean_absolute_error: 0.7913 - mean_squared_error: 0.9851\n",
      "Epoch 15/50\n",
      "5000/5000 [==============================] - 1s 108us/step - loss: 0.9859 - mean_absolute_error: 0.7924 - mean_squared_error: 0.9859\n",
      "Epoch 16/50\n",
      "5000/5000 [==============================] - 1s 108us/step - loss: 0.9831 - mean_absolute_error: 0.7904 - mean_squared_error: 0.9831\n",
      "Epoch 17/50\n",
      "5000/5000 [==============================] - 1s 107us/step - loss: 0.9860 - mean_absolute_error: 0.7921 - mean_squared_error: 0.9860\n",
      "Epoch 18/50\n",
      "5000/5000 [==============================] - 1s 105us/step - loss: 0.9869 - mean_absolute_error: 0.7928 - mean_squared_error: 0.9869\n",
      "Epoch 19/50\n",
      "5000/5000 [==============================] - 1s 110us/step - loss: 0.9843 - mean_absolute_error: 0.7907 - mean_squared_error: 0.9843\n",
      "Epoch 20/50\n",
      "5000/5000 [==============================] - 1s 107us/step - loss: 0.9870 - mean_absolute_error: 0.7930 - mean_squared_error: 0.9870\n",
      "Epoch 21/50\n",
      "5000/5000 [==============================] - 1s 107us/step - loss: 0.9888 - mean_absolute_error: 0.7936 - mean_squared_error: 0.9888\n",
      "Epoch 22/50\n",
      "5000/5000 [==============================] - 1s 106us/step - loss: 0.9841 - mean_absolute_error: 0.7912 - mean_squared_error: 0.9841\n",
      "Epoch 23/50\n",
      "5000/5000 [==============================] - 1s 108us/step - loss: 0.9867 - mean_absolute_error: 0.7929 - mean_squared_error: 0.9867\n",
      "Epoch 24/50\n",
      "5000/5000 [==============================] - 1s 111us/step - loss: 0.9858 - mean_absolute_error: 0.7921 - mean_squared_error: 0.9858\n",
      "Epoch 25/50\n",
      "5000/5000 [==============================] - 1s 111us/step - loss: 0.9860 - mean_absolute_error: 0.7929 - mean_squared_error: 0.9860\n",
      "Epoch 26/50\n",
      "5000/5000 [==============================] - 1s 109us/step - loss: 0.9873 - mean_absolute_error: 0.7931 - mean_squared_error: 0.9873\n",
      "Epoch 00026: early stopping\n"
     ]
    },
    {
     "data": {
      "text/plain": [
       "<keras.callbacks.History at 0x7f3a79119cf8>"
      ]
     },
     "execution_count": 44,
     "metadata": {
      "tags": []
     },
     "output_type": "execute_result"
    }
   ],
   "source": [
    "lm.fit(X,Y)"
   ]
  },
  {
   "cell_type": "code",
   "execution_count": 0,
   "metadata": {
    "colab": {},
    "colab_type": "code",
    "id": "6HEdNb-YCgAF"
   },
   "outputs": [],
   "source": [
    "W1=lm.model.get_weights()[0]\n",
    "b1=lm.model.get_weights()[1]\n",
    "W2=lm.model.get_weights()[2]\n",
    "b2=lm.model.get_weights()[3]\n",
    "#print(W1, W2)"
   ]
  },
  {
   "cell_type": "markdown",
   "metadata": {
    "colab_type": "text",
    "id": "o_eV5NS1CgAJ"
   },
   "source": [
    "## Check that the coefficients are close to one and the intercept is close to zero"
   ]
  },
  {
   "cell_type": "code",
   "execution_count": 0,
   "metadata": {
    "colab": {},
    "colab_type": "code",
    "id": "I_wSGyAZCgAL"
   },
   "outputs": [],
   "source": [
    "beta_0=np.dot(np.transpose(W2), b1) + b2\n",
    "beta_1=np.dot(np.transpose(W2), W1[0])\n",
    "beta_2=np.dot(np.transpose(W2), W1[1])"
   ]
  },
  {
   "cell_type": "code",
   "execution_count": 0,
   "metadata": {
    "colab": {
     "base_uri": "https://localhost:8080/",
     "height": 34
    },
    "colab_type": "code",
    "id": "4-1Z3xquCgAO",
    "outputId": "a3d7018f-3c19-4779-83ca-764c0bb88c45"
   },
   "outputs": [
    {
     "name": "stdout",
     "output_type": "stream",
     "text": [
      "[-0.00746066] [1.05129] [1.0355879]\n"
     ]
    }
   ],
   "source": [
    "print(beta_0,beta_1,beta_2)"
   ]
  },
  {
   "cell_type": "markdown",
   "metadata": {
    "colab_type": "text",
    "id": "K23l3K4WCgAV"
   },
   "source": [
    "# Compare with a FFW Neural Network with one hidden layer (tanh activated)"
   ]
  },
  {
   "cell_type": "code",
   "execution_count": 0,
   "metadata": {
    "colab": {},
    "colab_type": "code",
    "id": "5ckIXzEQCgAX"
   },
   "outputs": [],
   "source": [
    "# number of hidden neurons\n",
    "n=200"
   ]
  },
  {
   "cell_type": "code",
   "execution_count": 0,
   "metadata": {
    "colab": {},
    "colab_type": "code",
    "id": "ofhnC6ytCgAf"
   },
   "outputs": [],
   "source": [
    "# with non-linear activation\n",
    "def linear_NN1_model_act(l1_reg=0.0):    \n",
    "    model = Sequential()\n",
    "    model.add(Dense(n, input_dim=2, kernel_initializer='normal', activation='tanh'))\n",
    "    model.add(Dense(1, kernel_initializer='normal')) \n",
    "    model.compile(loss='mean_squared_error', optimizer='adam', metrics=['mae', 'mse'])\n",
    "    return model"
   ]
  },
  {
   "cell_type": "code",
   "execution_count": 0,
   "metadata": {
    "colab": {},
    "colab_type": "code",
    "id": "89SXuLt8CgAl"
   },
   "outputs": [],
   "source": [
    "lm = KerasRegressor(build_fn=linear_NN1_model_act, epochs=100, batch_size=10, verbose=1, callbacks=[es])"
   ]
  },
  {
   "cell_type": "code",
   "execution_count": 0,
   "metadata": {
    "colab": {
     "base_uri": "https://localhost:8080/",
     "height": 474
    },
    "colab_type": "code",
    "id": "3KseBa0jCgAu",
    "outputId": "52340777-9e29-4292-9231-dfa2a13c0868"
   },
   "outputs": [
    {
     "name": "stdout",
     "output_type": "stream",
     "text": [
      "Epoch 1/100\n",
      "5000/5000 [==============================] - 2s 321us/step - loss: 1.1042 - mean_absolute_error: 0.8288 - mean_squared_error: 1.1042\n",
      "Epoch 2/100\n",
      "5000/5000 [==============================] - 1s 122us/step - loss: 0.9859 - mean_absolute_error: 0.7929 - mean_squared_error: 0.9859\n",
      "Epoch 3/100\n",
      "5000/5000 [==============================] - 1s 129us/step - loss: 0.9906 - mean_absolute_error: 0.7936 - mean_squared_error: 0.9906\n",
      "Epoch 4/100\n",
      "5000/5000 [==============================] - 1s 127us/step - loss: 0.9897 - mean_absolute_error: 0.7943 - mean_squared_error: 0.9897\n",
      "Epoch 5/100\n",
      "5000/5000 [==============================] - 1s 130us/step - loss: 0.9900 - mean_absolute_error: 0.7941 - mean_squared_error: 0.9900\n",
      "Epoch 6/100\n",
      "5000/5000 [==============================] - 1s 124us/step - loss: 0.9902 - mean_absolute_error: 0.7946 - mean_squared_error: 0.9902\n",
      "Epoch 7/100\n",
      "5000/5000 [==============================] - 1s 129us/step - loss: 0.9887 - mean_absolute_error: 0.7926 - mean_squared_error: 0.9887\n",
      "Epoch 8/100\n",
      "5000/5000 [==============================] - 1s 135us/step - loss: 0.9873 - mean_absolute_error: 0.7929 - mean_squared_error: 0.9873\n",
      "Epoch 9/100\n",
      "5000/5000 [==============================] - 1s 132us/step - loss: 0.9884 - mean_absolute_error: 0.7947 - mean_squared_error: 0.9884\n",
      "Epoch 10/100\n",
      "5000/5000 [==============================] - 1s 131us/step - loss: 0.9882 - mean_absolute_error: 0.7939 - mean_squared_error: 0.9882\n",
      "Epoch 11/100\n",
      "5000/5000 [==============================] - 1s 130us/step - loss: 0.9859 - mean_absolute_error: 0.7915 - mean_squared_error: 0.9859\n",
      "Epoch 12/100\n",
      "5000/5000 [==============================] - 1s 127us/step - loss: 0.9893 - mean_absolute_error: 0.7936 - mean_squared_error: 0.9893\n",
      "Epoch 00012: early stopping\n"
     ]
    },
    {
     "data": {
      "text/plain": [
       "<keras.callbacks.History at 0x7f3a76131128>"
      ]
     },
     "execution_count": 210,
     "metadata": {
      "tags": []
     },
     "output_type": "execute_result"
    }
   ],
   "source": [
    "lm.fit(X,Y)"
   ]
  },
  {
   "cell_type": "markdown",
   "metadata": {
    "colab_type": "text",
    "id": "TozLfA4XCgAz"
   },
   "source": [
    "## Compute the sensitivities"
   ]
  },
  {
   "cell_type": "code",
   "execution_count": 0,
   "metadata": {
    "colab": {},
    "colab_type": "code",
    "id": "d0AUfOH_PBpT"
   },
   "outputs": [],
   "source": [
    "#def relu(x):\n",
    "#    return x*(np.sign(x)+1.)/2."
   ]
  },
  {
   "cell_type": "code",
   "execution_count": 0,
   "metadata": {
    "colab": {},
    "colab_type": "code",
    "id": "gNXAc9pWCgA1"
   },
   "outputs": [],
   "source": [
    "def sensitivities(lm, X):\n",
    "    \n",
    "    W1=lm.model.get_weights()[0]\n",
    "    b1=lm.model.get_weights()[1]\n",
    "    W2=lm.model.get_weights()[2]\n",
    "    b2=lm.model.get_weights()[3]\n",
    "    \n",
    "    \n",
    "    M = np.shape(X)[0]\n",
    "    p = np.shape(X)[1]\n",
    "\n",
    "    beta=np.array([0]*M*(p+1), dtype='float32').reshape(M,p+1)\n",
    "    \n",
    "    beta[:,0]= (np.dot(np.transpose(W2),np.tanh(b1)) + b2)[0] # intercept \\beta_0= F_{W,b}(0)\n",
    "    #beta[:,0]=(np.dot(np.transpose(W2),relu(b1))+b2)[0]\n",
    "    \n",
    "    for i in range(M):\n",
    "       \n",
    "      Z1 = np.tanh(np.dot(np.transpose(W1),np.transpose(X[i,])) + b1) #tanh\n",
    "      #Z1 = np.maximum(np.dot(np.transpose(W1),np.transpose(X[i,])) + b1,0) #relu\n",
    "      \n",
    "      D = np.diag(1-Z1**2) #tanh\n",
    "      #D = np.diag(np.sign(Z1))  #relu\n",
    "        \n",
    "      for j in range(p):  \n",
    "          beta[i,j+1]=np.dot(np.transpose(W2),np.dot(D,W1[j]))\n",
    "            \n",
    "    return(beta)"
   ]
  },
  {
   "cell_type": "code",
   "execution_count": 0,
   "metadata": {
    "colab": {},
    "colab_type": "code",
    "id": "GVZEMJ8oCgA4"
   },
   "outputs": [],
   "source": [
    "beta=sensitivities(lm, X)"
   ]
  },
  {
   "cell_type": "code",
   "execution_count": 0,
   "metadata": {
    "colab": {
     "base_uri": "https://localhost:8080/",
     "height": 134
    },
    "colab_type": "code",
    "id": "2ErgeOazb8il",
    "outputId": "e8e28b85-a055-427e-d0a1-e8354eabb4a3"
   },
   "outputs": [
    {
     "name": "stdout",
     "output_type": "stream",
     "text": [
      "[[0.01364461 0.9800964  0.896279  ]\n",
      " [0.01364461 0.992528   0.9005995 ]\n",
      " [0.01364461 1.0035534  0.9114454 ]\n",
      " ...\n",
      " [0.01364461 0.9605303  0.87714046]\n",
      " [0.01364461 0.976033   0.88592535]\n",
      " [0.01364461 1.0038284  0.9116604 ]]\n"
     ]
    }
   ],
   "source": [
    "print(beta)"
   ]
  },
  {
   "cell_type": "markdown",
   "metadata": {
    "colab_type": "text",
    "id": "tCEVqaCBQVnh"
   },
   "source": []
  },
  {
   "cell_type": "markdown",
   "metadata": {
    "colab_type": "text",
    "id": "5xi97Jk5CgA7"
   },
   "source": [
    "## Check that the intercept is close to one and the coefficients are close to one"
   ]
  },
  {
   "cell_type": "code",
   "execution_count": 0,
   "metadata": {
    "colab": {
     "base_uri": "https://localhost:8080/",
     "height": 34
    },
    "colab_type": "code",
    "id": "COdwU250CgA8",
    "outputId": "8739993a-f07e-4a5c-c081-a6a3c84cffb8"
   },
   "outputs": [
    {
     "name": "stdout",
     "output_type": "stream",
     "text": [
      "[0.01364477 0.9856196  0.8948794 ]\n"
     ]
    }
   ],
   "source": [
    "print(np.mean(beta, axis=0))"
   ]
  },
  {
   "cell_type": "code",
   "execution_count": 0,
   "metadata": {
    "colab": {
     "base_uri": "https://localhost:8080/",
     "height": 34
    },
    "colab_type": "code",
    "id": "dWIF1Ue_CgA_",
    "outputId": "0cdea424-bbf9-42b5-a19f-815f29b079a4"
   },
   "outputs": [
    {
     "name": "stdout",
     "output_type": "stream",
     "text": [
      "[1.5180308e-07 2.5432914e-02 2.3625439e-02]\n"
     ]
    }
   ],
   "source": [
    "print(np.std(beta, axis=0))"
   ]
  },
  {
   "cell_type": "code",
   "execution_count": 0,
   "metadata": {
    "colab": {},
    "colab_type": "code",
    "id": "678qVS87cRXO"
   },
   "outputs": [],
   "source": []
  }
 ],
 "metadata": {
  "colab": {
   "collapsed_sections": [],
   "name": "Deep_Learning_Interpretability.ipynb",
   "provenance": []
  },
  "kernelspec": {
   "display_name": "Python 3",
   "language": "python",
   "name": "python3"
  },
  "language_info": {
   "codemirror_mode": {
    "name": "ipython",
    "version": 3
   },
   "file_extension": ".py",
   "mimetype": "text/x-python",
   "name": "python",
   "nbconvert_exporter": "python",
   "pygments_lexer": "ipython3",
   "version": "3.6.10"
  }
 },
 "nbformat": 4,
 "nbformat_minor": 1
}
